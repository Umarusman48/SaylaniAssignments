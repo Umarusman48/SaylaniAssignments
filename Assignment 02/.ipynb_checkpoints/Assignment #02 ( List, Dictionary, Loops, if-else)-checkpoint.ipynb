{
 "cells": [
  {
   "cell_type": "markdown",
   "id": "be78078c",
   "metadata": {},
   "source": [
    "### Scenario 1: Grocery Shopping List\n",
    "    You are creating a program to manage a grocery shopping list. Users should be able to add items, \n",
    "    remove items, and display the current list."
   ]
  },
  {
   "cell_type": "code",
   "execution_count": 1,
   "id": "8204ca66",
   "metadata": {},
   "outputs": [
    {
     "name": "stdout",
     "output_type": "stream",
     "text": [
      "Enter any item to add to the list: yougurt\n",
      "Grocery list is now ['Milk', 'Butter', 'Sugar', 'Egg', 'Bread', 'yougurt']\n",
      "Enter anything you want to remove from the list: Bread\n",
      "Updated Grocery list is now ['Milk', 'Butter', 'Sugar', 'Egg', 'yougurt']\n"
     ]
    }
   ],
   "source": [
    "Grocery_List = [\"Milk\", \"Butter\", \"Sugar\", \"Egg\", \"Bread\"]\n",
    "new_item = input(\"Enter any item to add to the list: \")\n",
    "Grocery_List.append(new_item)\n",
    "print(f'Grocery list is now {Grocery_List}')\n",
    "\n",
    "item_to_remove = input(\"Enter anything you want to remove from the list: \")\n",
    "if item_to_remove in Grocery_List:\n",
    "    Grocery_List.remove(item_to_remove)\n",
    "    print(f'Updated Grocery list is now {Grocery_List}')\n",
    "else:\n",
    "    print(f'The item \"{item_to_remove}\" is not in the list.')"
   ]
  },
  {
   "cell_type": "markdown",
   "id": "b151fdc5",
   "metadata": {},
   "source": [
    "### Scenario 2: Student Grades\n",
    "You are managing student grades using a dictionary. You need to calculate the average grade.take atleast 5 Students grades & then calculate the average."
   ]
  },
  {
   "cell_type": "code",
   "execution_count": 2,
   "id": "c70515dc",
   "metadata": {},
   "outputs": [],
   "source": [
    "Grades = [{\"Name\" : \"Muhammad\",\n",
    "         \"Roll_no\" : \"1\",\n",
    "         \"Class\" : \"X\",\n",
    "          \"percentage\": 98},\n",
    "         {\"Name\":\"Abubakar\",\n",
    "         \"Roll_no\":\"2\",\n",
    "         \"Class\":\"X\",\n",
    "         \"percentage\": 94},\n",
    "         {\"Name\":\"Umar\",\n",
    "         \"Roll_no\":\"3\",\n",
    "         \"Class\":\"X\",\n",
    "         \"percentage\": 90},\n",
    "         {\"Name\":\"Usman\",\n",
    "         \"Roll_no\":\"4\",\n",
    "         \"Class\":\"X\",\n",
    "         \"percentage\": 86},\n",
    "        {\"Name\":\"Ali\",\n",
    "         \"Roll_no\":\"5\",\n",
    "         \"Class\":\"X\",\n",
    "         \"percentage\": 82}]"
   ]
  },
  {
   "cell_type": "code",
   "execution_count": 3,
   "id": "239b88a1",
   "metadata": {},
   "outputs": [
    {
     "data": {
      "text/plain": [
       "94"
      ]
     },
     "execution_count": 3,
     "metadata": {},
     "output_type": "execute_result"
    }
   ],
   "source": [
    "Grades[1][\"percentage\"]"
   ]
  },
  {
   "cell_type": "code",
   "execution_count": 4,
   "id": "a265c9f9",
   "metadata": {},
   "outputs": [
    {
     "name": "stdout",
     "output_type": "stream",
     "text": [
      "90.0\n"
     ]
    }
   ],
   "source": [
    "Avrage = []\n",
    "for perc in Grades:\n",
    "    \n",
    "    if perc:\n",
    "        Avrage.append(perc[\"percentage\"])\n",
    "        Average = sum(Avrage)/len(Avrage)\n",
    "print(Average)"
   ]
  },
  {
   "cell_type": "markdown",
   "id": "90ddd0a4",
   "metadata": {},
   "source": [
    "### Scenario 3: Word Frequency Counter\n",
    "     You are given a list of words, and you need to count the frequency of each word.\n",
    "     word_list = [\"apple\", \"banana\", \"apple\", \"orange\", \"banana\", \"grape\", \"apple\"]"
   ]
  },
  {
   "cell_type": "code",
   "execution_count": 6,
   "id": "b1e842be",
   "metadata": {},
   "outputs": [
    {
     "name": "stdout",
     "output_type": "stream",
     "text": [
      "Word Frequency Count:\n",
      "apple: 3\n",
      "banana: 2\n",
      "orange: 1\n",
      "grape: 1\n"
     ]
    }
   ],
   "source": [
    "from collections import Counter\n",
    "\n",
    "word_list = [\"apple\", \"banana\", \"apple\", \"orange\", \"banana\", \"grape\", \"apple\"]\n",
    "\n",
    "def word_frequency_counter(words):\n",
    "    word_count = Counter(words)\n",
    "    return word_count\n",
    "\n",
    "\n",
    "frequency_count = word_frequency_counter(word_list)\n",
    "\n",
    "\n",
    "print(\"Word Frequency Count:\")\n",
    "for word, count in frequency_count.items():\n",
    "    print(f\"{word}: {count}\")\n"
   ]
  },
  {
   "cell_type": "markdown",
   "id": "35bb3a76",
   "metadata": {},
   "source": [
    "### Scenario 4: Password Strength Checker\n",
    "    You are creating a program to check the strength of passwords based on certain criteria.\n",
    "    • Password should be at least 8 characters long.\n",
    "    • Password should contain at least one digit.\n",
    "    • Password should contain at least one letter.\n"
   ]
  },
  {
   "cell_type": "code",
   "execution_count": 1,
   "id": "fa16b2d9",
   "metadata": {},
   "outputs": [
    {
     "name": "stdout",
     "output_type": "stream",
     "text": [
      "Enter a password: strongpassword1\n",
      "Password is strong!\n"
     ]
    }
   ],
   "source": [
    "def check_password_strength(password):\n",
    "    if len(password) < 8:\n",
    "        return \"Password is too short. It should be at least 8 characters long.\"\n",
    "    if not any(char.isdigit() for char in password):\n",
    "        return \"Password should contain at least one digit.\"\n",
    "    if not any(char.isalpha() for char in password):\n",
    "        return \"Password should contain at least one letter.\"\n",
    "    return \"Password is strong!\"\n",
    "\n",
    "password = input(\"Enter a password: \")\n",
    "strength = check_password_strength(password)\n",
    "print(strength)\n"
   ]
  },
  {
   "cell_type": "markdown",
   "id": "917830c2",
   "metadata": {},
   "source": [
    "### Scenario 05: Voting System (Annual Employee Recognition Awards)\n",
    "   * You are developing a simple voting system for a contest. Users can vote for their Favorite option, and you need to count        the votes.\n",
    "   * In a corporate setting, the HR department is organizing the Annual Employee Recognition Awards, where employees get the        opportunity to vote for their colleagues nominated in different categories.\n",
    "   * The HR team has decided to use a simple voting system to collect and tally votes for the nominees in various award              categories. The script provided will be utilized for this purpose.\n",
    "   * Candidates: The nominees for different award categories, such as \"Employee of the Year,\" \"Team Player of the Year,\" and        \"Innovation Award,\" are represented by the list of candidates: 'Candidate A,' 'Candidate B,' and 'Candidate C.'\n",
    "   * Voting Process: Employees are requested to input the number of voters participating in the awards. Each voter is presented      with a list of nominees, and they can vote for their preferred candidate by entering the corresponding number.\n",
    "   * Validation: The script ensures that the entered vote is within the valid range of candidates. If an employee enters an          invalid vote, the system prompts them to choose a valid candidate.\n",
    "   * Recording Votes: The script records each vote for the selected candidate and prints a confirmation message indicating that      the vote has been recorded.\n",
    "   * Results Display: Once all votes are collected, the system displays the voting results, showing the number of votes each        candidate received in each category.\n",
    "   * Award Winners: Based on the voting results, the HR department can identify the winners for each award category and proceed      with recognizing and rewarding the selected employees during the Annual Employee Recognition Ceremony.\n",
    "   * This script provides a straightforward and transparent way for employees to participate in the recognition process,            fostering a sense of engagement and community within the organization. The HR team can use the collected votes to              acknowledge and appreciate the efforts of outstanding employees in various aspects of their work."
   ]
  },
  {
   "cell_type": "code",
   "execution_count": null,
   "id": "02bb119a",
   "metadata": {},
   "outputs": [],
   "source": []
  }
 ],
 "metadata": {
  "kernelspec": {
   "display_name": "Python 3 (ipykernel)",
   "language": "python",
   "name": "python3"
  },
  "language_info": {
   "codemirror_mode": {
    "name": "ipython",
    "version": 3
   },
   "file_extension": ".py",
   "mimetype": "text/x-python",
   "name": "python",
   "nbconvert_exporter": "python",
   "pygments_lexer": "ipython3",
   "version": "3.11.5"
  }
 },
 "nbformat": 4,
 "nbformat_minor": 5
}
