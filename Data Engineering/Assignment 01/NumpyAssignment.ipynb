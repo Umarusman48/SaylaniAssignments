{
 "cells": [
  {
   "cell_type": "markdown",
   "metadata": {
    "id": "UZXjlass3ARu"
   },
   "source": [
    "\n",
    "# **1. Basic Array Manipulation:**\n"
   ]
  },
  {
   "cell_type": "markdown",
   "metadata": {
    "id": "tDWPQRm23C7o"
   },
   "source": [
    "Create a 1D array with values ranging from 0 to 9.\n"
   ]
  },
  {
   "cell_type": "code",
   "execution_count": 1,
   "metadata": {
    "id": "OvGF66_02Q8H"
   },
   "outputs": [
    {
     "name": "stdout",
     "output_type": "stream",
     "text": [
      "Array:\n",
      "[0 1 2 3 4 5 6 7 8 9]\n"
     ]
    }
   ],
   "source": [
    "import numpy as np\n",
    "\n",
    "array = np.arange(10)\n",
    "\n",
    "print(\"Array:\")\n",
    "print(array)"
   ]
  },
  {
   "cell_type": "markdown",
   "metadata": {
    "id": "UYzIzPyB3Ne3"
   },
   "source": [
    "Reshape the array into a 3x3 matrix.\n",
    "\n",
    "Explore Reshape Function"
   ]
  },
  {
   "cell_type": "markdown",
   "metadata": {},
   "source": [
    "### It is not possible to reshape an array of size 10 into a shape of (3,3)\n",
    "    To reshape the above array we require total 9 elements"
   ]
  },
  {
   "cell_type": "code",
   "execution_count": null,
   "metadata": {
    "id": "RLlzDCBc2Q_P"
   },
   "outputs": [],
   "source": [
    "\n",
    "\n",
    "array_2d = array_1d.reshape(3, 3)\n",
    "\n",
    "print(\"\\nReshaped 3x3 Matrix:\")\n",
    "print(array_2d)"
   ]
  },
  {
   "cell_type": "code",
   "execution_count": 3,
   "metadata": {},
   "outputs": [
    {
     "name": "stdout",
     "output_type": "stream",
     "text": [
      "Array:\n",
      "[1 2 3 4 5 6 7 8 9]\n"
     ]
    },
    {
     "data": {
      "text/plain": [
       "array([[1, 2, 3],\n",
       "       [4, 5, 6],\n",
       "       [7, 8, 9]])"
      ]
     },
     "execution_count": 3,
     "metadata": {},
     "output_type": "execute_result"
    }
   ],
   "source": [
    "import numpy as np\n",
    "\n",
    "array = np.arange(1,10)\n",
    "\n",
    "print(\"Array:\")\n",
    "print(array)\n",
    "\n",
    "reshaped_array = array.reshape(3, 3)\n",
    "reshaped_array"
   ]
  },
  {
   "cell_type": "markdown",
   "metadata": {
    "id": "KmhRK9Ti3Phn"
   },
   "source": [
    "Access the element at the second row, second column.\n"
   ]
  },
  {
   "cell_type": "code",
   "execution_count": 5,
   "metadata": {
    "id": "Dk_a1D3A3ijN"
   },
   "outputs": [
    {
     "data": {
      "text/plain": [
       "5"
      ]
     },
     "execution_count": 5,
     "metadata": {},
     "output_type": "execute_result"
    }
   ],
   "source": [
    "array_element = reshaped_array[1,1]\n",
    "array_element"
   ]
  },
  {
   "cell_type": "markdown",
   "metadata": {
    "id": "NlH7N-fZ36wc"
   },
   "source": [
    "Perform element-wise addition, subtraction, multiplication, and division on two arrays [1, 2, 3] and [4, 5, 6].\n"
   ]
  },
  {
   "cell_type": "code",
   "execution_count": 18,
   "metadata": {
    "id": "PkgNSo1a37kP"
   },
   "outputs": [
    {
     "name": "stdout",
     "output_type": "stream",
     "text": [
      "Addition: [5 7 9]\n",
      "Subtraction: [-3 -3 -3]\n",
      "Multiplication: [ 4 10 18]\n",
      "Division: [0.25 0.4  0.5 ]\n"
     ]
    }
   ],
   "source": [
    "import numpy as np\n",
    "\n",
    "array1 = np.array([1, 2, 3])\n",
    "array2 = np.array([4, 5, 6])\n",
    "\n",
    "addition = array1 + array2\n",
    "subtraction = array1 - array2\n",
    "multiplication = array1 * array2\n",
    "division = array1 / array2\n",
    "\n",
    "print(\"Addition:\", addition)\n",
    "print(\"Subtraction:\", subtraction)\n",
    "print(\"Multiplication:\", multiplication)\n",
    "print(\"Division:\", division)"
   ]
  },
  {
   "cell_type": "markdown",
   "metadata": {
    "id": "JVt4zxkk8e0P"
   },
   "source": [
    "Find the sum, mean, and standard deviation of the array [1, 2, 3, 4, 5].\n"
   ]
  },
  {
   "cell_type": "code",
   "execution_count": 19,
   "metadata": {
    "id": "mQZxaZ0c8nhh"
   },
   "outputs": [
    {
     "name": "stdout",
     "output_type": "stream",
     "text": [
      "Sum: 15\n",
      "Mean: 3.0\n",
      "Standard Deviation: 1.4142135623730951\n"
     ]
    }
   ],
   "source": [
    "import numpy as np\n",
    "\n",
    "array = np.array([1, 2, 3, 4, 5])\n",
    "\n",
    "array1 = np.sum(array)\n",
    "array2 = np.mean(array)\n",
    "array3 = np.std(array)\n",
    "\n",
    "print(\"Sum:\", array1)\n",
    "print(\"Mean:\", array2)\n",
    "print(\"Standard Deviation:\", array3)"
   ]
  },
  {
   "cell_type": "markdown",
   "metadata": {
    "id": "ji2XvW0Z8nn5"
   },
   "source": [
    "Reshape the array [1, 2, 3, 4, 5, 6] into a 2x3 array.\n",
    "\n",
    "Explore Reshape"
   ]
  },
  {
   "cell_type": "code",
   "execution_count": 20,
   "metadata": {
    "id": "FNbYlzyI8rAx"
   },
   "outputs": [
    {
     "name": "stdout",
     "output_type": "stream",
     "text": [
      "[[1 2 3]\n",
      " [4 5 6]]\n"
     ]
    }
   ],
   "source": [
    "import numpy as np\n",
    "\n",
    "array = np.array([1, 2, 3, 4, 5, 6])\n",
    "\n",
    "array1 = array.reshape(2, 3)\n",
    "\n",
    "print(array1)"
   ]
  },
  {
   "cell_type": "markdown",
   "metadata": {
    "id": "OE-5o0th3SU4"
   },
   "source": [
    "\n",
    "# **2. Indexing and Slicing:**\n"
   ]
  },
  {
   "cell_type": "markdown",
   "metadata": {
    "id": "yqNKWBOl3an3"
   },
   "source": [
    "Create a 5x5 array with random integers.\n"
   ]
  },
  {
   "cell_type": "code",
   "execution_count": 21,
   "metadata": {
    "id": "G-kX4nme2RBn"
   },
   "outputs": [
    {
     "name": "stdout",
     "output_type": "stream",
     "text": [
      "[[57 95 27 72 50]\n",
      " [15 54  6 42 39]\n",
      " [76 44 61 41 19]\n",
      " [66 61 21 92 58]\n",
      " [62 53 91 24 87]]\n"
     ]
    }
   ],
   "source": [
    "import numpy as np\n",
    "\n",
    "array = np.random.randint(0, 100, size=(5, 5))\n",
    "\n",
    "print(array)"
   ]
  },
  {
   "cell_type": "markdown",
   "metadata": {
    "id": "LlilKAMF3bMX"
   },
   "source": [
    "Replace all values in the sub-array with a specific value.\n"
   ]
  },
  {
   "cell_type": "code",
   "execution_count": 22,
   "metadata": {
    "id": "gShfqRGm2REI"
   },
   "outputs": [
    {
     "name": "stdout",
     "output_type": "stream",
     "text": [
      "Original Array:\n",
      "[[60 30 18 23 51]\n",
      " [14 36 25 31 60]\n",
      " [99 67 30 91  5]\n",
      " [75 38 36 19  0]\n",
      " [10 64 86 89 88]]\n",
      "\n",
      "Modified Array:\n",
      "[[ 60  30  18  23  51]\n",
      " [ 14 999 999 999  60]\n",
      " [ 99 999 999 999   5]\n",
      " [ 75 999 999 999   0]\n",
      " [ 10  64  86  89  88]]\n"
     ]
    }
   ],
   "source": [
    "import numpy as np\n",
    "\n",
    "random_array = np.random.randint(0, 100, size=(5, 5))\n",
    "\n",
    "print(\"Original Array:\")\n",
    "print(random_array)\n",
    "\n",
    "sub_array_value = 999\n",
    "random_array[1:4, 1:4] = sub_array_value\n",
    "\n",
    "print(\"\\nModified Array:\")\n",
    "print(random_array)"
   ]
  },
  {
   "cell_type": "markdown",
   "metadata": {
    "id": "1kUY7u023gfF"
   },
   "source": [
    "Extract the subarray [[3, 4], [7, 8]] from the array [[1, 2], [3, 4], [5, 6], [7, 8]].\n"
   ]
  },
  {
   "cell_type": "code",
   "execution_count": 23,
   "metadata": {
    "id": "UmgqjBwC3_4V"
   },
   "outputs": [
    {
     "name": "stdout",
     "output_type": "stream",
     "text": [
      "Original Array:\n",
      "[[1 2]\n",
      " [3 4]\n",
      " [5 6]\n",
      " [7 8]]\n",
      "\n",
      "Extracted Sub-Array:\n",
      "[[3 4]\n",
      " [7 8]]\n"
     ]
    }
   ],
   "source": [
    "import numpy as np\n",
    "\n",
    "original_array = np.array([[1, 2], \n",
    "                           [3, 4], \n",
    "                           [5, 6], \n",
    "                           [7, 8]])\n",
    "\n",
    "sub_array = original_array[[1, 3], :]\n",
    "\n",
    "print(\"Original Array:\")\n",
    "print(original_array)\n",
    "\n",
    "print(\"\\nExtracted Sub-Array:\")\n",
    "print(sub_array)"
   ]
  },
  {
   "cell_type": "markdown",
   "metadata": {
    "id": "vPrCHS_O3jK9"
   },
   "source": [
    "\n",
    "# **3. Broadcasting:**"
   ]
  },
  {
   "cell_type": "markdown",
   "metadata": {
    "id": "W3WUM5Cc3phc"
   },
   "source": [
    "Create a 2D array of shape (3, 3) with values from 0 to 2.\n"
   ]
  },
  {
   "cell_type": "code",
   "execution_count": 8,
   "metadata": {
    "id": "PxJrAlFW2RGw"
   },
   "outputs": [
    {
     "data": {
      "text/plain": [
       "array([[0, 1, 2],\n",
       "       [0, 1, 2],\n",
       "       [0, 1, 2]])"
      ]
     },
     "execution_count": 8,
     "metadata": {},
     "output_type": "execute_result"
    }
   ],
   "source": [
    "import numpy as np\n",
    "\n",
    "array = np.array([0, 1, 2])\n",
    "array\n",
    "\n",
    "array1 = np.tile(array, (3,1))\n",
    "array1"
   ]
  },
  {
   "cell_type": "markdown",
   "metadata": {
    "id": "J5XPwN3A3rXG"
   },
   "source": [
    "Add a 1D array of shape (3,) to each row of the 2D array using broadcasting.\n"
   ]
  },
  {
   "cell_type": "code",
   "execution_count": 11,
   "metadata": {
    "id": "k4FM2g_c2RJv"
   },
   "outputs": [
    {
     "name": "stdout",
     "output_type": "stream",
     "text": [
      "[2 4 6]\n"
     ]
    }
   ],
   "source": [
    "array_1d = np.array([1, 2, 3])\n",
    "\n",
    "Final_array = array1 + array_1d\n",
    "\n",
    "print(Final_array)"
   ]
  },
  {
   "cell_type": "markdown",
   "metadata": {
    "id": "9CbtQS3w4PA3"
   },
   "source": [
    "# **4. Concatenation and Splitting**"
   ]
  },
  {
   "cell_type": "markdown",
   "metadata": {
    "id": "yMg_umVy4ILG"
   },
   "source": [
    "\n",
    "1.   Create two 2D arrays of shape (3, 3) with random integers.\n",
    "2.   Concatenate them horizontally and vertically.\n",
    "3.   Split the concatenated arrays back into the original arrays.\n"
   ]
  },
  {
   "cell_type": "code",
   "execution_count": 20,
   "metadata": {
    "id": "wXiCa2Sn8XHP"
   },
   "outputs": [
    {
     "name": "stdout",
     "output_type": "stream",
     "text": [
      "Array 1:\n",
      "[[1 4 9]\n",
      " [6 5 7]\n",
      " [1 5 9]]\n",
      "\n",
      "Array 2:\n",
      "[[8 2 4]\n",
      " [6 7 8]\n",
      " [2 7 4]]\n"
     ]
    }
   ],
   "source": [
    "import numpy as np\n",
    "\n",
    "array1 = np.random.randint(1, 10, (3, 3)) \n",
    "array2 = np.random.randint(1, 10, (3, 3))\n",
    "\n",
    "print(\"Array 1:\")\n",
    "print(array1)\n",
    "\n",
    "print(\"\\nArray 2:\")\n",
    "print(array2)"
   ]
  },
  {
   "cell_type": "code",
   "execution_count": 21,
   "metadata": {
    "id": "yAiYe6vj8XSW"
   },
   "outputs": [
    {
     "name": "stdout",
     "output_type": "stream",
     "text": [
      "\n",
      "Concatenated Horizontally:\n",
      "[[1 4 9 8 2 4]\n",
      " [6 5 7 6 7 8]\n",
      " [1 5 9 2 7 4]]\n",
      "\n",
      "Concatenated Vertically:\n",
      "[[1 4 9]\n",
      " [6 5 7]\n",
      " [1 5 9]\n",
      " [8 2 4]\n",
      " [6 7 8]\n",
      " [2 7 4]]\n"
     ]
    }
   ],
   "source": [
    "horizontal = np.concatenate((array1, array2), axis=1) \n",
    "vertical = np.concatenate((array1, array2), axis=0)\n",
    "\n",
    "print(\"\\nConcatenated Horizontally:\") \n",
    "print(horizontal)\n",
    "\n",
    "print(\"\\nConcatenated Vertically:\") \n",
    "print(vertical)"
   ]
  },
  {
   "cell_type": "code",
   "execution_count": 22,
   "metadata": {
    "id": "lgMsjt-J8XZK"
   },
   "outputs": [
    {
     "name": "stdout",
     "output_type": "stream",
     "text": [
      "\n",
      "Split Horizontal Arrays:\n",
      "[array([[1, 4, 9],\n",
      "       [6, 5, 7],\n",
      "       [1, 5, 9]]), array([[8, 2, 4],\n",
      "       [6, 7, 8],\n",
      "       [2, 7, 4]])]\n",
      "\n",
      "Split Vertical Arrays:\n",
      "[array([[1, 4, 9],\n",
      "       [6, 5, 7],\n",
      "       [1, 5, 9]]), array([[8, 2, 4],\n",
      "       [6, 7, 8],\n",
      "       [2, 7, 4]])]\n"
     ]
    }
   ],
   "source": [
    "split_horizontal = np.hsplit(horizontal, 2) \n",
    "split_vertical = np.vsplit(vertical, 2)\n",
    "\n",
    "print(\"\\nSplit Horizontal Arrays:\") \n",
    "print(split_horizontal)\n",
    "\n",
    "print(\"\\nSplit Vertical Arrays:\") \n",
    "print(split_vertical)"
   ]
  },
  {
   "cell_type": "markdown",
   "metadata": {
    "id": "2CliNLH8YG3j"
   },
   "source": [
    "# **Bonus Question**\n",
    "\n",
    "Find mode of this array  = [1,2,1,2,3,4,5,6,8,9,1,2,2,22,21,1,1,1,1,2,5]\n",
    "\n",
    "Hint: Use count and also loop"
   ]
  },
  {
   "cell_type": "code",
   "execution_count": 23,
   "metadata": {
    "id": "JGe2Qe3SYaHq"
   },
   "outputs": [
    {
     "name": "stdout",
     "output_type": "stream",
     "text": [
      "[1]\n"
     ]
    }
   ],
   "source": [
    "def find_mode(arr):\n",
    "    count_dict = {}\n",
    "    \n",
    "    for num in arr:\n",
    "        if num in count_dict:\n",
    "            count_dict[num] += 1\n",
    "        else:\n",
    "            count_dict[num] = 1\n",
    "    \n",
    "    max_count = max(count_dict.values())\n",
    "    \n",
    "    modes = [num for num, count in count_dict.items() if count == max_count]\n",
    "    \n",
    "    return modes\n",
    "\n",
    "arr = [1,2,1,2,3,4,5,6,8,9,1,2,2,22,21,1,1,1,1,2,5]\n",
    "print(find_mode(arr))"
   ]
  },
  {
   "cell_type": "markdown",
   "metadata": {
    "id": "1t9n5GQdYbHN"
   },
   "source": [
    "# **Notes**\n",
    "\n",
    "\n",
    "1.   All the Questions carry Equal Points (2 points)\n",
    "\n",
    "2.   Bonus Question carry 5 points\n",
    "\n",
    "3.   Review lecture for any query\n",
    "\n",
    "Good Luck!\n",
    "\n"
   ]
  },
  {
   "cell_type": "code",
   "execution_count": null,
   "metadata": {
    "id": "yxT9-gJfYugV"
   },
   "outputs": [],
   "source": []
  }
 ],
 "metadata": {
  "colab": {
   "provenance": []
  },
  "kernelspec": {
   "display_name": "Python 3 (ipykernel)",
   "language": "python",
   "name": "python3"
  },
  "language_info": {
   "codemirror_mode": {
    "name": "ipython",
    "version": 3
   },
   "file_extension": ".py",
   "mimetype": "text/x-python",
   "name": "python",
   "nbconvert_exporter": "python",
   "pygments_lexer": "ipython3",
   "version": "3.11.5"
  }
 },
 "nbformat": 4,
 "nbformat_minor": 1
}
